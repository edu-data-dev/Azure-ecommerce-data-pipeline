{
 "cells": [
  {
   "cell_type": "code",
   "execution_count": 0,
   "metadata": {
    "application/vnd.databricks.v1+cell": {
     "cellMetadata": {},
     "inputWidgets": {},
     "nuid": "0e6632d6-78c1-40bb-bdd6-269efc7728c1",
     "showTitle": false,
     "tableResultSettingsMap": {},
     "title": ""
    }
   },
   "outputs": [],
   "source": [
    "from pyspark.sql.functions import col, count, sum, avg, month, year, round, lit\n",
    "\n",
    "silver_path = \"/mnt/silver\"\n",
    "gold_path = \"/mnt/gold\"\n",
    "\n",
    "# Carregar as tabelas da camada Silver\n",
    "clientes_df = spark.read.parquet(f\"{silver_path}/clientes\")\n",
    "pedidos_df = spark.read.parquet(f\"{silver_path}/pedidos\")\n",
    "pagamentos_df = spark.read.parquet(f\"{silver_path}/pagamentos\")\n",
    "entregas_df = spark.read.parquet(f\"{silver_path}/entregas\")\n",
    "\n",
    "print(\"Tabelas da camada Silver carregadas com sucesso.\")"
   ]
  },
  {
   "cell_type": "code",
   "execution_count": 0,
   "metadata": {
    "application/vnd.databricks.v1+cell": {
     "cellMetadata": {},
     "inputWidgets": {},
     "nuid": "a2771623-afd6-4fef-8702-7e14b44a3bf4",
     "showTitle": false,
     "tableResultSettingsMap": {},
     "title": ""
    }
   },
   "outputs": [],
   "source": [
    "# Join entre os pedidos e pagamentos\n",
    "pedidos_pagos_df = pedidos_df.join(pagamentos_df, \"pedido_id\", \"inner\")\n",
    "\n",
    "# Agregação para calcular a receita mensal\n",
    "receita_mensal_df = pedidos_pagos_df.groupBy(\n",
    "    year(\"data_pedido\").alias(\"ano\"),\n",
    "    month(\"data_pedido\").alias(\"mes\")\n",
    ").agg(\n",
    "    round(sum(\"preco_total\"), 2).alias(\"receita_total\"),\n",
    "    count(\"pedido_id\").alias(\"total_pedidos\")\n",
    ").orderBy(\"ano\", \"mes\")\n",
    "\n",
    "# Salvar a tabela agregada na camada Gold\n",
    "receita_mensal_df.write.mode(\"overwrite\").format(\"parquet\").save(f\"{gold_path}/receita_mensal\")\n",
    "\n",
    "print(\"Tabela 'receita_mensal' salva na camada Gold.\")\n",
    "display(receita_mensal_df)"
   ]
  },
  {
   "cell_type": "code",
   "execution_count": 0,
   "metadata": {
    "application/vnd.databricks.v1+cell": {
     "cellMetadata": {},
     "inputWidgets": {},
     "nuid": "a066797f-d0b1-462f-b87a-82e55df96863",
     "showTitle": false,
     "tableResultSettingsMap": {},
     "title": ""
    }
   },
   "outputs": [],
   "source": [
    "# Agregação para contar a quantidade vendida por produto\n",
    "produtos_mais_vendidos_df = pedidos_df.groupBy(\"produto_nome\") \\\n",
    "    .agg(\n",
    "        sum(\"quantidade\").alias(\"quantidade_vendida\"),\n",
    "        round(sum(\"preco_total\"), 2).alias(\"receita_gerada\")\n",
    "    ) \\\n",
    "    .orderBy(col(\"quantidade_vendida\").desc()) \\\n",
    "    .limit(10) # Pegando o Top 10\n",
    "\n",
    "# Salvar na camada Gold\n",
    "produtos_mais_vendidos_df.write.mode(\"overwrite\").format(\"parquet\").save(f\"{gold_path}/produtos_mais_vendidos\")\n",
    "\n",
    "print(\"Tabela 'produtos_mais_vendidos' salva na camada Gold.\")\n",
    "display(produtos_mais_vendidos_df)"
   ]
  },
  {
   "cell_type": "code",
   "execution_count": 0,
   "metadata": {
    "application/vnd.databricks.v1+cell": {
     "cellMetadata": {},
     "inputWidgets": {},
     "nuid": "b1e86292-b0be-4be4-a55e-3fec3617b0c6",
     "showTitle": false,
     "tableResultSettingsMap": {},
     "title": ""
    }
   },
   "outputs": [],
   "source": [
    "from pyspark.sql.functions import col, when, sum, count, round\n",
    "\n",
    "# Agregação para analisar o SLA de entrega por estado\n",
    "sla_por_regiao_df = entregas_df.groupBy(\"estado_entrega\") \\\n",
    "    .agg(\n",
    "        count(\"*\").alias(\"total_entregas\"),\n",
    "        sum(when(col(\"sla_atrasado\") == True, 1).otherwise(0)).alias(\"total_atrasos\")\n",
    "    ) \\\n",
    "    .withColumn(\"percentual_atraso\", round(col(\"total_atrasos\") / col(\"total_entregas\") * 100, 2)) \\\n",
    "    .orderBy(col(\"percentual_atraso\").desc())\n",
    "\n",
    "# Salvar na camada Gold\n",
    "sla_por_regiao_df.write.mode(\"overwrite\").format(\"parquet\").save(f\"{silver_path}/gold/sla_por_regiao\")\n",
    "\n",
    "print(\"Tabela 'sla_por_regiao' salva na camada Gold.\")\n",
    "display(sla_por_regiao_df)\n"
   ]
  },
  {
   "cell_type": "code",
   "execution_count": 0,
   "metadata": {
    "application/vnd.databricks.v1+cell": {
     "cellMetadata": {},
     "inputWidgets": {},
     "nuid": "d0dc4a71-7afc-41b8-903d-5ee2960a5f6f",
     "showTitle": false,
     "tableResultSettingsMap": {},
     "title": ""
    }
   },
   "outputs": [],
   "source": [
    "# Agregação para contar o uso de cada método de pagamento\n",
    "pagamentos_usados_df = pagamentos_df.groupBy(\"metodo_pagamento\") \\\n",
    "    .agg(count(\"*\").alias(\"quantidade_usos\")) \\\n",
    "    .orderBy(col(\"quantidade_usos\").desc())\n",
    "\n",
    "# Salvar na camada Gold\n",
    "pagamentos_usados_df.write.mode(\"overwrite\").format(\"parquet\").save(f\"{gold_path}/meios_pagamento_usados\")\n",
    "\n",
    "print(\"Tabela 'meios_pagamento_usados' salva na camada Gold.\")\n",
    "display(pagamentos_usados_df)"
   ]
  }
 ],
 "metadata": {
  "application/vnd.databricks.v1+notebook": {
   "computePreferences": null,
   "dashboards": [],
   "environmentMetadata": {
    "base_environment": "",
    "environment_version": "3"
   },
   "inputWidgetPreferences": null,
   "language": "python",
   "notebookMetadata": {
    "pythonIndentUnit": 4
   },
   "notebookName": "03_Silver_to_Gold",
   "widgets": {}
  },
  "language_info": {
   "name": "python"
  }
 },
 "nbformat": 4,
 "nbformat_minor": 0
}
