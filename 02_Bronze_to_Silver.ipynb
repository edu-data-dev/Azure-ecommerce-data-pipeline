{
 "cells": [
  {
   "cell_type": "code",
   "execution_count": 0,
   "metadata": {
    "application/vnd.databricks.v1+cell": {
     "cellMetadata": {},
     "inputWidgets": {},
     "nuid": "f2ba219e-f56f-46bf-ab2b-7d4791939a26",
     "showTitle": false,
     "tableResultSettingsMap": {},
     "title": ""
    }
   },
   "outputs": [],
   "source": [
    "bronze_path = \"/mnt/bronze\"\n",
    "silver_path = \"/mnt/silver\"\n",
    "\n",
    "print(f\"Caminho da camada Bronze: {bronze_path}\")\n",
    "print(f\"Caminho da camada Silver: {silver_path}\")"
   ]
  },
  {
   "cell_type": "code",
   "execution_count": 0,
   "metadata": {
    "application/vnd.databricks.v1+cell": {
     "cellMetadata": {},
     "inputWidgets": {},
     "nuid": "99d261ad-2a93-4e74-a46e-79d30c5dfbe5",
     "showTitle": false,
     "tableResultSettingsMap": {},
     "title": ""
    }
   },
   "outputs": [],
   "source": [
    "display(dbutils.fs.ls(\"/mnt/bronze\"))\n"
   ]
  },
  {
   "cell_type": "code",
   "execution_count": 0,
   "metadata": {
    "application/vnd.databricks.v1+cell": {
     "cellMetadata": {},
     "inputWidgets": {},
     "nuid": "c9c8e47a-d7bc-4ed8-aaec-1ca7f2da3714",
     "showTitle": false,
     "tableResultSettingsMap": {},
     "title": ""
    }
   },
   "outputs": [],
   "source": [
    "from pyspark.sql.functions import col, to_timestamp\n",
    "\n",
    "# Ler os dados Parquet da camada bronze\n",
    "clientes_df = spark.read.parquet(f\"{bronze_path}/clientes.parquet\")\n",
    "\n",
    "# Transformações\n",
    "clientes_silver_df = clientes_df.withColumn(\"data_cadastro_ts\", to_timestamp(col(\"data_cadastro\"))) \\\n",
    "                                .drop(\"data_cadastro\") \\\n",
    "                                .withColumnRenamed(\"data_cadastro_ts\", \"data_cadastro\") \\\n",
    "                                .dropDuplicates([\"cliente_id\"])\n",
    "\n",
    "# Escrever na silver\n",
    "clientes_silver_df.write.mode(\"overwrite\").format(\"parquet\").save(f\"{silver_path}/clientes\")\n",
    "\n",
    "print(\"Tabela de clientes salva na camada Silver.\")\n",
    "display(clientes_silver_df)"
   ]
  },
  {
   "cell_type": "code",
   "execution_count": 0,
   "metadata": {
    "application/vnd.databricks.v1+cell": {
     "cellMetadata": {},
     "inputWidgets": {},
     "nuid": "714f8079-b704-4d2e-9bb2-2fd01a6a5ef8",
     "showTitle": false,
     "tableResultSettingsMap": {},
     "title": ""
    }
   },
   "outputs": [],
   "source": [
    "# Ler os dados de pedidos\n",
    "pedidos_df = spark.read.parquet(f\"{bronze_path}/pedidos.parquet\")\n",
    "\n",
    "# Transformações: converter datas, garantir consistência\n",
    "pedidos_silver_df = pedidos_df.withColumn(\"data_pedido_ts\", to_timestamp(col(\"data_pedido\"))) \\\n",
    "                              .drop(\"data_pedido\") \\\n",
    "                              .withColumnRenamed(\"data_pedido_ts\", \"data_pedido\") \\\n",
    "                              .dropDuplicates([\"pedido_id\"])\n",
    "\n",
    "# Escrever silver\n",
    "pedidos_silver_df.write.mode(\"overwrite\").format(\"parquet\").save(f\"{silver_path}/pedidos\")\n",
    "\n",
    "print(\"Tabela de pedidos salva na camada Silver.\")\n",
    "display(pedidos_silver_df)"
   ]
  },
  {
   "cell_type": "code",
   "execution_count": 0,
   "metadata": {
    "application/vnd.databricks.v1+cell": {
     "cellMetadata": {},
     "inputWidgets": {},
     "nuid": "f1b05fec-5df2-4859-8eb2-cee7815ae9d6",
     "showTitle": false,
     "tableResultSettingsMap": {},
     "title": ""
    }
   },
   "outputs": [],
   "source": [
    "# Ler os dados de pagamentos\n",
    "pagamentos_df = spark.read.parquet(f\"{bronze_path}/pagamentos.parquet\")\n",
    "\n",
    "\n",
    "pagamentos_silver_df = pagamentos_df.withColumn(\"data_pagamento_ts\", to_timestamp(col(\"data_pagamento\"))) \\\n",
    "                                    .drop(\"data_pagamento\") \\\n",
    "                                    .withColumnRenamed(\"data_pagamento_ts\", \"data_pagamento\") \\\n",
    "                                    .dropDuplicates(['pagamento_id'])\n",
    "\n",
    "# Escrever na silver\n",
    "pagamentos_silver_df.write.mode(\"overwrite\").format(\"parquet\").save(f\"{silver_path}/pagamentos\")\n",
    "\n",
    "print(\"Tabela de pagamentos salva na camada Silver.\")\n",
    "display(pagamentos_silver_df)"
   ]
  },
  {
   "cell_type": "code",
   "execution_count": 0,
   "metadata": {
    "application/vnd.databricks.v1+cell": {
     "cellMetadata": {},
     "inputWidgets": {},
     "nuid": "02673713-3d52-4705-b456-e29b92814b35",
     "showTitle": false,
     "tableResultSettingsMap": {},
     "title": ""
    }
   },
   "outputs": [],
   "source": [
    "from pyspark.sql.functions import when\n",
    "\n",
    "# Ler os dados de entregas\n",
    "entregas_df = spark.read.parquet(f\"{bronze_path}/entregas.parquet\")\n",
    "\n",
    "# Transformações e Enriquecimento\n",
    "entregas_silver_df = entregas_df.withColumn(\"data_envio_ts\", to_timestamp(col(\"data_envio\"))) \\\n",
    "                                .withColumn(\"data_estimada_entrega_ts\", to_timestamp(col(\"data_estimada_entrega\"))) \\\n",
    "                                .withColumn(\"data_entrega_real_ts\", to_timestamp(col(\"data_entrega_real\"))) \\\n",
    "                                .drop(\"data_envio\", \"data_estimada_entrega\", \"data_entrega_real\") \\\n",
    "                                .withColumnRenamed(\"data_envio_ts\", \"data_envio\") \\\n",
    "                                .withColumnRenamed(\"data_estimada_entrega_ts\", \"data_estimada_entrega\") \\\n",
    "                                .withColumnRenamed(\"data_entrega_real_ts\", \"data_entrega_real\") \\\n",
    "                                .dropDuplicates(['entrega_id'])\n",
    "\n",
    "# ENRIQUECIMENTO: Adicionar uma coluna para identificar entregas atrasadas (SLA)\n",
    "entregas_silver_df = entregas_silver_df.withColumn(\n",
    "    \"sla_atrasado\",\n",
    "    when(col(\"data_entrega_real\") > col(\"data_estimada_entrega\"), True).otherwise(False)\n",
    ")\n",
    "\n",
    "# Escrever na camada silver\n",
    "entregas_silver_df.write.mode(\"overwrite\").format(\"parquet\").save(f\"{silver_path}/entregas\")\n",
    "\n",
    "print(\"Tabela de entregas salva e enriquecida na camada Silver.\")\n",
    "display(entregas_silver_df)"
   ]
  }
 ],
 "metadata": {
  "application/vnd.databricks.v1+notebook": {
   "computePreferences": null,
   "dashboards": [],
   "environmentMetadata": {
    "base_environment": "",
    "environment_version": "3"
   },
   "inputWidgetPreferences": null,
   "language": "python",
   "notebookMetadata": {
    "pythonIndentUnit": 4
   },
   "notebookName": "02_Bronze_to_Silver",
   "widgets": {}
  },
  "language_info": {
   "name": "python"
  }
 },
 "nbformat": 4,
 "nbformat_minor": 0
}
