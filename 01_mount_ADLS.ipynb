{
 "cells": [
  {
   "cell_type": "code",
   "execution_count": 0,
   "metadata": {
    "application/vnd.databricks.v1+cell": {
     "cellMetadata": {},
     "inputWidgets": {},
     "nuid": "b3251af6-6dad-4959-b13d-42b05dd66975",
     "showTitle": false,
     "tableResultSettingsMap": {},
     "title": ""
    }
   },
   "outputs": [],
   "source": [
    "# Célula para limpeza (execute uma vez)\n",
    "try:\n",
    "    dbutils.fs.unmount(\"/mnt/ecommerce\")\n",
    "    print(\"Ponto de montagem /mnt/ecommerce removido.\")\n",
    "except:\n",
    "    print(\"Nenhum ponto de montagem /mnt/ecommerce encontrado para remover.\")"
   ]
  },
  {
   "cell_type": "code",
   "execution_count": 0,
   "metadata": {
    "application/vnd.databricks.v1+cell": {
     "cellMetadata": {},
     "inputWidgets": {},
     "nuid": "15ac4aa2-fe06-4b81-b699-399aca82cfb0",
     "showTitle": false,
     "tableResultSettingsMap": {},
     "title": ""
    }
   },
   "outputs": [],
   "source": [
    "\n",
    "storage_account_name = \"dlsecommerce\"\n",
    "\n",
    "\n",
    "storage_account_key = \"<key aki>\"\n",
    "\n",
    "# Lista dos containers \n",
    "containers_para_montar = [\"raw\", \"bronze\", \"silver\", \"gold\"]\n",
    "\n",
    "print(\"Iniciando a montagem dos containers...\")\n",
    "\n",
    "# --- Loop para Montar cada Container ---\n",
    "for container in containers_para_montar:\n",
    "    mount_point = f\"/mnt/{container}\"\n",
    "    source_url = f\"wasbs://{container}@{storage_account_name}.blob.core.windows.net/\"\n",
    "\n",
    "    # Primeiro, verificamos se o ponto de montagem já não existe\n",
    "    if not any(mount.mountPoint == mount_point for mount in dbutils.fs.mounts()):\n",
    "        try:\n",
    "            # Se não existe, tentamos montar\n",
    "            dbutils.fs.mount(\n",
    "                source = source_url,\n",
    "                mount_point = mount_point,\n",
    "                extra_configs = {f\"fs.azure.account.key.{storage_account_name}.blob.core.windows.net\": storage_account_key}\n",
    "            )\n",
    "            print(f\"SUCESSO: Container '{container}' foi montado em '{mount_point}'\")\n",
    "        except Exception as e:\n",
    "            print(f\"ERRO ao montar o container '{container}': {e}\")\n",
    "    else:\n",
    "        # Se já existe, apenas informamos\n",
    "        print(f\"AVISO: O ponto de montagem '{mount_point}' já existe. Nenhuma ação necessária.\")\n",
    "\n",
    "print(\"\\nVerificação final dos pontos de montagem:\")\n",
    "# Exibe todos os pontos de montagem ativos para confirmação\n",
    "display(dbutils.fs.mounts())"
   ]
  }
 ],
 "metadata": {
  "application/vnd.databricks.v1+notebook": {
   "computePreferences": null,
   "dashboards": [],
   "environmentMetadata": {
    "base_environment": "",
    "environment_version": "3"
   },
   "inputWidgetPreferences": null,
   "language": "python",
   "notebookMetadata": {
    "pythonIndentUnit": 4
   },
   "notebookName": "01_mount_ADLS",
   "widgets": {}
  },
  "language_info": {
   "name": "python"
  }
 },
 "nbformat": 4,
 "nbformat_minor": 0
}
