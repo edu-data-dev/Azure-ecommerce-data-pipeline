{
 "cells": [
  {
   "cell_type": "code",
   "execution_count": 0,
   "metadata": {
    "application/vnd.databricks.v1+cell": {
     "cellMetadata": {},
     "inputWidgets": {},
     "nuid": "b3251af6-6dad-4959-b13d-42b05dd66975",
     "showTitle": false,
     "tableResultSettingsMap": {},
     "title": ""
    }
   },
   "outputs": [],
   "source": [
    "# Célula para limpeza (execute uma vez)\n",
    "try:\n",
    "    dbutils.fs.unmount(\"/mnt/ecommerce\")\n",
    "    print(\"Ponto de montagem /mnt/ecommerce removido.\")\n",
    "except:\n",
    "    print(\"Nenhum ponto de montagem /mnt/ecommerce encontrado para remover.\")"
   ]
  },
  {
   "cell_type": "code",
   "execution_count": 0,
   "metadata": {
    "application/vnd.databricks.v1+cell": {
     "cellMetadata": {},
     "inputWidgets": {},
     "nuid": "15ac4aa2-fe06-4b81-b699-399aca82cfb0",
     "showTitle": false,
     "tableResultSettingsMap": {},
     "title": ""
    }
   },
   "outputs": [],
   "source": [
    "# --- Configurações ---\n",
    "storage_account_name = \"dlsecommerceportfolio\" \n",
    "\n",
    "# Nomes do Secret Scope e da chave que você configurou no Databricks/Key Vault.\n",
    "secret_scope_name = \"kv-ecommerce-scope\"  # <-- SUBSTITUA pelo nome do seu scope\n",
    "secret_key_name = \"datalake-access-key\"     # <-- SUBSTITUA pelo nome do seu secret\n",
    "\n",
    "try:\n",
    "    storage_account_key = dbutils.secrets.get(scope=secret_scope_name, key=secret_key_name)\n",
    "    print(\"Chave de acesso recuperada com sucesso do Key Vault.\")\n",
    "except Exception as e:\n",
    "    print(f\"Erro ao buscar o segredo do Key Vault: {e}\")\n",
    "    # Interrompe a execução se a chave não puder ser obtida\n",
    "    dbutils.notebook.exit(\"Falha ao obter credenciais do Key Vault.\")\n",
    "# --- Loop para Montar cada Container ---\n",
    "for container in containers_para_montar:\n",
    "    mount_point = f\"/mnt/{container}\"\n",
    "    source_url = f\"wasbs://{container}@{storage_account_name}.blob.core.windows.net/\"\n",
    "\n",
    "    # Primeiro, verificamos se o ponto de montagem já não existe\n",
    "    if not any(mount.mountPoint == mount_point for mount in dbutils.fs.mounts()):\n",
    "        try:\n",
    "            # Se não existe, tentamos montar\n",
    "            dbutils.fs.mount(\n",
    "                source = source_url,\n",
    "                mount_point = mount_point,\n",
    "                extra_configs = {f\"fs.azure.account.key.{storage_account_name}.blob.core.windows.net\": storage_account_key}\n",
    "            )\n",
    "            print(f\"SUCESSO: Container '{container}' foi montado em '{mount_point}'\")\n",
    "        except Exception as e:\n",
    "            print(f\"ERRO ao montar o container '{container}': {e}\")\n",
    "    else:\n",
    "        # Se já existe, apenas informamos\n",
    "        print(f\"AVISO: O ponto de montagem '{mount_point}' já existe. Nenhuma ação necessária.\")\n",
    "\n",
    "print(\"\\nVerificação final dos pontos de montagem:\")\n",
    "# Exibe todos os pontos de montagem ativos para confirmação\n",
    "display(dbutils.fs.mounts())"
   ]
  }
 ],
 "metadata": {
  "application/vnd.databricks.v1+notebook": {
   "computePreferences": null,
   "dashboards": [],
   "environmentMetadata": {
    "base_environment": "",
    "environment_version": "3"
   },
   "inputWidgetPreferences": null,
   "language": "python",
   "notebookMetadata": {
    "pythonIndentUnit": 4
   },
   "notebookName": "01_mount_ADLS",
   "widgets": {}
  },
  "language_info": {
   "name": "python"
  }
 },
 "nbformat": 4,
 "nbformat_minor": 0
}
